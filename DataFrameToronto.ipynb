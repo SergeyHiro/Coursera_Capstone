{
 "cells": [
  {
   "cell_type": "code",
   "execution_count": null,
   "metadata": {
    "collapsed": true
   },
   "outputs": [],
   "source": [
    "import pandas as pd\n",
    "loc = \"https://github.com/SergeyHiro/Coursera_Capstone/blob/master/Toronto.xlsx"\n",
    "Toronto = pd.read_excel(loc,\n",
    "header=0,\n",
    "index_col=False,)\n",
    "\n",
    "Toronto.columns = ['Postcode','Borough', 'Neighborhood']\n",
    "Toronto['Borough'] = Toronto['Borough'].str.strip()\n",
    "Toronto['Postcode'] = Toronto['Postcode'].str.strip()\n",
    "Toronto['Neighborhood'] = Toronto['Neighborhood'].str.strip()\n",
    "\n",
    "Toronto = Toronto[Toronto.Borough != 'Not assigned']\n",
    "\n",
    "print(Toronto.head(10))"
   ]
  }
 ],
 "metadata": {
  "kernelspec": {
   "display_name": "Python 2",
   "language": "python",
   "name": "python2"
  },
  "language_info": {
   "codemirror_mode": {
    "name": "ipython",
    "version": 2
   },
   "file_extension": ".py",
   "mimetype": "text/x-python",
   "name": "python",
   "nbconvert_exporter": "python",
   "pygments_lexer": "ipython2",
   "version": "2.7.6"
  }
 },
 "nbformat": 4,
 "nbformat_minor": 0
}
