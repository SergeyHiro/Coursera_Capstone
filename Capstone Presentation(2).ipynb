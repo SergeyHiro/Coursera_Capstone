{
 "cells": [
  {
   "cell_type": "markdown",
   "metadata": {
    "collapsed": true
   },
   "source": [
    "# My Battle of Neighborhoods work"
   ]
  },
  {
   "cell_type": "markdown",
   "metadata": {},
   "source": [
    "### New York Conrad Hotel and Toronto Hilton Comparison"
   ]
  },
  {
   "cell_type": "markdown",
   "metadata": {},
   "source": [
    "New York City and Toronto are two different cities, belonging to different countries, the US and Canada, respectively"
   ]
  },
  {
   "cell_type": "markdown",
   "metadata": {},
   "source": [
    "Let's check their position"
   ]
  },
  {
   "attachments": {},
   "cell_type": "markdown",
   "metadata": {},
   "source": [
    "![](https://www.rit.edu/emcs/admissions/images/stories/assorted/rit-map-country.gif)"
   ]
  },
  {
   "cell_type": "markdown",
   "metadata": {},
   "source": [
    "Toronto is more to the North-West, while New York is to South-East, which is clear from the map. \n",
    "That means if you seek a warmer place - it's probably New York. However if you're a Chinese food fan, the choice may become a bit more complicated."
   ]
  },
  {
   "cell_type": "markdown",
   "metadata": {},
   "source": [
    "### Comparison of two randomly chosen hotels in those two cities showed a difference in Chinese food availability differences in their respective surroindings. "
   ]
  },
  {
   "cell_type": "markdown",
   "metadata": {},
   "source": [
    "![](https://www.nyctourist.com/sites/default/files/billboard/conrad-ny-1_C.jpg)\n",
    "![](https://content.r9cdn.net/rimg/himg/3d/fa/5b/leonardo-1070743-Four_Seasons_Centre_S-image.jpg?width=500&height=350&xhint=804&yhint=522&crop=true)"
   ]
  },
  {
   "cell_type": "markdown",
   "metadata": {},
   "source": [
    "In case of Hilton Toronto there were four Chineses restauraunts around the hotel, like this one:\n",
    "\n",
    "![](https://s3.amazonaws.com/btoimage/prism-thumbnails/uploads/2018/08/21/20171220-2048-YuehTung9.jpg-resize-_opacity_100-frame_bg_color_FFF-h_2500-gravity_center-q_70-preserve_ratio_true-w_1400_.webp)"
   ]
  },
  {
   "cell_type": "markdown",
   "metadata": {},
   "source": [
    "Or like this one:\n",
    "![](https://s3.amazonaws.com/btoimage/prism-thumbnails/listings/23bd-2016521-phoenix-pan.jpg-resize_then_crop-_frame_bg_color_FFF-h_1365-gravity_center-q_70-preserve_ratio_true-w_2048_.webp)"
   ]
  },
  {
   "cell_type": "markdown",
   "metadata": {},
   "source": [
    "At the same in New York you could only have food truck nearby Conrad Hotel"
   ]
  },
  {
   "cell_type": "markdown",
   "metadata": {},
   "source": [
    "![](http://4.bp.blogspot.com/-Z7nfZpekEoE/UKlHHJ84HXI/AAAAAAAAV-0/AZRuxZBCOxc/s1600/IMG_1046.jpg)"
   ]
  },
  {
   "cell_type": "markdown",
   "metadata": {},
   "source": [
    "![](https://canna-pet.com/wp-content/uploads/2019/04/justin-veenema-31135-unsplash-1024x622.jpg)"
   ]
  },
  {
   "cell_type": "markdown",
   "metadata": {},
   "source": [
    "So while New York is a bit warmer, you will have to eat from that food truck if you're Chinese food fan staying at Conrad Hotel"
   ]
  },
  {
   "cell_type": "code",
   "execution_count": null,
   "metadata": {},
   "outputs": [],
   "source": []
  }
 ],
 "metadata": {
  "kernelspec": {
   "display_name": "Python 3.6",
   "language": "python",
   "name": "python3"
  },
  "language_info": {
   "codemirror_mode": {
    "name": "ipython",
    "version": 3
   },
   "file_extension": ".py",
   "mimetype": "text/x-python",
   "name": "python",
   "nbconvert_exporter": "python",
   "pygments_lexer": "ipython3",
   "version": "3.6.8"
  }
 },
 "nbformat": 4,
 "nbformat_minor": 1
}
