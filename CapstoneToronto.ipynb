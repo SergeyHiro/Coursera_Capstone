{
 "cells": [
  {
   "cell_type": "markdown",
   "metadata": {
    "collapsed": true
   },
   "source": [
    "# My Toronto Clustering Project"
   ]
  },
  {
   "cell_type": "markdown",
   "metadata": {},
   "source": [
    "#### First i copied the data from the wiki page to excel and ran the following VBA code to deal with unassigned values the way that was pointed out in the task:\n",
    "\n",
    "```\n",
    "Sub AssignedOnly()\n",
    "Dim cell As Range\n",
    "For Each cell In ActiveSheet.UsedRange.Columns(\"B\").Cells\n",
    "If Left(cell.Value, 5) = \"Not a\" Then cell.EntireRow.Delete\n",
    "Next cell\n",
    "End Sub\n",
    "```\n",
    "___________________________________________________________\n",
    "\n",
    "```\n",
    "Sub QueensPark()\n",
    "Dim cell As Range\n",
    "For Each cell In ActiveSheet.UsedRange.Columns(\"C\").Cells\n",
    "If Left(cell.Value, 5) = \"Not a\" Then cell.Value = cell.Offset(0, -1).Value\n",
    "Next cell\n",
    "End Sub\n",
    "```"
   ]
  },
  {
   "cell_type": "markdown",
   "metadata": {},
   "source": [
    "#### I placed the improved dataset in my Github repository, and that is where Pandas' turn comes"
   ]
  },
  {
   "cell_type": "markdown",
   "metadata": {},
   "source": [
    "![](https://ca-times.brightspotcdn.com/dims4/default/013452e/2147483647/strip/true/crop/1968x1107+0+0/resize/840x473!/quality/90/?url=https%3A%2F%2Fca-times.brightspotcdn.com%2F22%2F95%2F424d38b9d4d89a03e4581888f9ce%2Fla-1522697963-y0ks365b7g-snap-image)"
   ]
  },
  {
   "cell_type": "code",
   "execution_count": 70,
   "metadata": {},
   "outputs": [
    {
     "data": {
      "text/html": [
       "<div>\n",
       "<style scoped>\n",
       "    .dataframe tbody tr th:only-of-type {\n",
       "        vertical-align: middle;\n",
       "    }\n",
       "\n",
       "    .dataframe tbody tr th {\n",
       "        vertical-align: top;\n",
       "    }\n",
       "\n",
       "    .dataframe thead th {\n",
       "        text-align: right;\n",
       "    }\n",
       "</style>\n",
       "<table border=\"1\" class=\"dataframe\">\n",
       "  <thead>\n",
       "    <tr style=\"text-align: right;\">\n",
       "      <th></th>\n",
       "      <th>Postcode</th>\n",
       "      <th>Borough</th>\n",
       "      <th>Neighborhood</th>\n",
       "    </tr>\n",
       "  </thead>\n",
       "  <tbody>\n",
       "    <tr>\n",
       "      <th>0</th>\n",
       "      <td>M1B</td>\n",
       "      <td>Scarborough</td>\n",
       "      <td>Rouge, Malvern</td>\n",
       "    </tr>\n",
       "    <tr>\n",
       "      <th>1</th>\n",
       "      <td>M1C</td>\n",
       "      <td>Scarborough</td>\n",
       "      <td>Highland Creek, Rouge Hill, Port Union</td>\n",
       "    </tr>\n",
       "    <tr>\n",
       "      <th>2</th>\n",
       "      <td>M1E</td>\n",
       "      <td>Scarborough</td>\n",
       "      <td>Guildwood, Morningside, West Hill</td>\n",
       "    </tr>\n",
       "    <tr>\n",
       "      <th>3</th>\n",
       "      <td>M1G</td>\n",
       "      <td>Scarborough</td>\n",
       "      <td>Woburn</td>\n",
       "    </tr>\n",
       "    <tr>\n",
       "      <th>4</th>\n",
       "      <td>M1H</td>\n",
       "      <td>Scarborough</td>\n",
       "      <td>Cedarbrae</td>\n",
       "    </tr>\n",
       "  </tbody>\n",
       "</table>\n",
       "</div>"
      ],
      "text/plain": [
       "  Postcode       Borough                            Neighborhood\n",
       "0     M1B   Scarborough                           Rouge, Malvern\n",
       "1     M1C   Scarborough   Highland Creek, Rouge Hill, Port Union\n",
       "2     M1E   Scarborough        Guildwood, Morningside, West Hill\n",
       "3     M1G   Scarborough                                   Woburn\n",
       "4     M1H   Scarborough                                Cedarbrae"
      ]
     },
     "execution_count": 70,
     "metadata": {},
     "output_type": "execute_result"
    }
   ],
   "source": [
    "import pandas as pd\n",
    "\n",
    "loc = \"https://github.com/SergeyHiro/Coursera_Capstone/raw/master/Toronto.xlsx.xlsm\"\n",
    "Toro = pd.read_excel(loc,\n",
    "header=0,\n",
    "index_col=False,)\n",
    "\n",
    "Toro.columns = ['Postcode','Borough', 'Neighborhood']\n",
    "\n",
    "Toro = pd.DataFrame(Toro.groupby(['Postcode','Borough'], as_index = True)['Neighborhood'].apply(', '.join))\n",
    "Toro.reset_index(inplace=True)\n",
    "\n",
    "Toro.head()"
   ]
  },
  {
   "cell_type": "code",
   "execution_count": 68,
   "metadata": {},
   "outputs": [
    {
     "data": {
      "text/plain": [
       "(103, 3)"
      ]
     },
     "execution_count": 68,
     "metadata": {},
     "output_type": "execute_result"
    }
   ],
   "source": [
    "Toro.shape"
   ]
  },
  {
   "cell_type": "code",
   "execution_count": null,
   "metadata": {},
   "outputs": [],
   "source": []
  }
 ],
 "metadata": {
  "kernelspec": {
   "display_name": "Python 3.6",
   "language": "python",
   "name": "python3"
  },
  "language_info": {
   "codemirror_mode": {
    "name": "ipython",
    "version": 3
   },
   "file_extension": ".py",
   "mimetype": "text/x-python",
   "name": "python",
   "nbconvert_exporter": "python",
   "pygments_lexer": "ipython3",
   "version": "3.6.8"
  }
 },
 "nbformat": 4,
 "nbformat_minor": 1
}
