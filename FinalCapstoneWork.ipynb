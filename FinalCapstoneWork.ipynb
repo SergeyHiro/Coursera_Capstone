{
 "cells": [
  {
   "cell_type": "markdown",
   "metadata": {
    "collapsed": true
   },
   "source": [
    "# My Battle of Neighborhoods work"
   ]
  },
  {
   "cell_type": "markdown",
   "metadata": {},
   "source": [
    "### Introduction/Business problem section"
   ]
  },
  {
   "cell_type": "markdown",
   "metadata": {},
   "source": [
    "In this work i will try to compare hotels in two multicultural cities, American New York and Canadian Toronto, that can be similar in many aspects and different in many more. I am going to be as creative as I want and come up with an idea to leverage the Foursquare location data to explore or compare neighborhoods or cities of my choice or to come up with a problem that I can use the Foursquare location data to solve.\n"
   ]
  },
  {
   "cell_type": "markdown",
   "metadata": {},
   "source": [
    "### Data description"
   ]
  },
  {
   "cell_type": "markdown",
   "metadata": {},
   "source": [
    "I will need to use the Foursquare location data to solve the problem or execute my idea. I can absolutely use other datasets in combination with the Foursquare location data, for example Wikipedia pages or other sources of information available publicly, like csv files at governmental online pages.  "
   ]
  },
  {
   "cell_type": "markdown",
   "metadata": {},
   "source": [
    "### So let's use some foursquare to get the data to mess with"
   ]
  },
  {
   "cell_type": "code",
   "execution_count": 1,
   "metadata": {},
   "outputs": [
    {
     "name": "stdout",
     "output_type": "stream",
     "text": [
      "Solving environment: done\n",
      "\n",
      "## Package Plan ##\n",
      "\n",
      "  environment location: /opt/conda/envs/Python36\n",
      "\n",
      "  added / updated specs: \n",
      "    - geopy\n",
      "\n",
      "\n",
      "The following packages will be downloaded:\n",
      "\n",
      "    package                    |            build\n",
      "    ---------------------------|-----------------\n",
      "    geopy-1.20.0               |             py_0          57 KB  conda-forge\n",
      "    geographiclib-1.49         |             py_0          32 KB  conda-forge\n",
      "    ca-certificates-2019.6.16  |       hecc5488_0         145 KB  conda-forge\n",
      "    openssl-1.1.1c             |       h516909a_0         2.1 MB  conda-forge\n",
      "    certifi-2019.6.16          |           py36_1         149 KB  conda-forge\n",
      "    ------------------------------------------------------------\n",
      "                                           Total:         2.5 MB\n",
      "\n",
      "The following NEW packages will be INSTALLED:\n",
      "\n",
      "    geographiclib:   1.49-py_0         conda-forge\n",
      "    geopy:           1.20.0-py_0       conda-forge\n",
      "\n",
      "The following packages will be UPDATED:\n",
      "\n",
      "    ca-certificates: 2019.5.15-1                   --> 2019.6.16-hecc5488_0 conda-forge\n",
      "    certifi:         2019.6.16-py36_1              --> 2019.6.16-py36_1     conda-forge\n",
      "\n",
      "The following packages will be DOWNGRADED:\n",
      "\n",
      "    openssl:         1.1.1c-h7b6447c_1             --> 1.1.1c-h516909a_0    conda-forge\n",
      "\n",
      "\n",
      "Downloading and Extracting Packages\n",
      "geopy-1.20.0         | 57 KB     | ##################################### | 100% \n",
      "geographiclib-1.49   | 32 KB     | ##################################### | 100% \n",
      "ca-certificates-2019 | 145 KB    | ##################################### | 100% \n",
      "openssl-1.1.1c       | 2.1 MB    | ##################################### | 100% \n",
      "certifi-2019.6.16    | 149 KB    | ##################################### | 100% \n",
      "Preparing transaction: done\n",
      "Verifying transaction: done\n",
      "Executing transaction: done\n",
      "Solving environment: done\n",
      "\n",
      "## Package Plan ##\n",
      "\n",
      "  environment location: /opt/conda/envs/Python36\n",
      "\n",
      "  added / updated specs: \n",
      "    - folium=0.5.0\n",
      "\n",
      "\n",
      "The following packages will be downloaded:\n",
      "\n",
      "    package                    |            build\n",
      "    ---------------------------|-----------------\n",
      "    branca-0.3.1               |             py_0          25 KB  conda-forge\n",
      "    altair-3.2.0               |           py36_0         770 KB  conda-forge\n",
      "    folium-0.5.0               |             py_0          45 KB  conda-forge\n",
      "    vincent-0.4.4              |             py_1          28 KB  conda-forge\n",
      "    ------------------------------------------------------------\n",
      "                                           Total:         868 KB\n",
      "\n",
      "The following NEW packages will be INSTALLED:\n",
      "\n",
      "    altair:  3.2.0-py36_0 conda-forge\n",
      "    branca:  0.3.1-py_0   conda-forge\n",
      "    folium:  0.5.0-py_0   conda-forge\n",
      "    vincent: 0.4.4-py_1   conda-forge\n",
      "\n",
      "\n",
      "Downloading and Extracting Packages\n",
      "branca-0.3.1         | 25 KB     | ##################################### | 100% \n",
      "altair-3.2.0         | 770 KB    | ##################################### | 100% \n",
      "folium-0.5.0         | 45 KB     | ##################################### | 100% \n",
      "vincent-0.4.4        | 28 KB     | ##################################### | 100% \n",
      "Preparing transaction: done\n",
      "Verifying transaction: done\n",
      "Executing transaction: done\n",
      "Libraries imported.\n"
     ]
    }
   ],
   "source": [
    "import numpy as np \n",
    "\n",
    "import pandas as pd \n",
    "\n",
    "import json\n",
    "\n",
    "!conda install -c conda-forge geopy --yes \n",
    "from geopy.geocoders import Nominatim\n",
    "\n",
    "import requests\n",
    "from pandas.io.json import json_normalize\n",
    "\n",
    "import matplotlib.cm as cm\n",
    "import matplotlib.colors as colors\n",
    "\n",
    "!conda install -c conda-forge folium=0.5.0 --yes \n",
    "import folium\n",
    "\n",
    "print('Libraries imported.')"
   ]
  },
  {
   "cell_type": "code",
   "execution_count": 5,
   "metadata": {},
   "outputs": [
    {
     "name": "stdout",
     "output_type": "stream",
     "text": [
      "My credentails:\n",
      "CLIENT_ID: 45MWALKON1JTXEMRF3WFCNUAO1ZKVUD2I5FFXH23QGPB11UZ\n",
      "CLIENT_SECRET:GL04ECMB2KJ5SVKB2CZ0Q1U0YGDRX5SXGOB1QA0NOCZ5W3RL\n"
     ]
    }
   ],
   "source": [
    "CLIENT_ID = '45MWALKON1JTXEMRF3WFCNUAO1ZKVUD2I5FFXH23QGPB11UZ' \n",
    "CLIENT_SECRET = 'GL04ECMB2KJ5SVKB2CZ0Q1U0YGDRX5SXGOB1QA0NOCZ5W3RL' \n",
    "VERSION = '20180604'\n",
    "LIMIT = 30\n",
    "print('My credentails:')\n",
    "print('CLIENT_ID: ' + CLIENT_ID)\n",
    "print('CLIENT_SECRET:' + CLIENT_SECRET)"
   ]
  },
  {
   "cell_type": "markdown",
   "metadata": {},
   "source": [
    "So let's assume i'm staying in Toronto Hilton, 145 Richmond St"
   ]
  },
  {
   "cell_type": "code",
   "execution_count": 6,
   "metadata": {},
   "outputs": [
    {
     "name": "stdout",
     "output_type": "stream",
     "text": [
      "43.64993865 -79.3853803728614\n"
     ]
    }
   ],
   "source": [
    "address = '145 Richmond St W, Toronto'\n",
    "\n",
    "geolocator = Nominatim(user_agent=\"foursquare_agent\")\n",
    "location = geolocator.geocode(address)\n",
    "Tlatitude = location.latitude\n",
    "Tlongitude = location.longitude\n",
    "print(Tlatitude, Tlongitude)"
   ]
  },
  {
   "cell_type": "markdown",
   "metadata": {},
   "source": [
    "And now let's assume i'm in Conrad, NY, from the lab"
   ]
  },
  {
   "cell_type": "code",
   "execution_count": 7,
   "metadata": {},
   "outputs": [
    {
     "name": "stdout",
     "output_type": "stream",
     "text": [
      "40.7149555 -74.0153365\n"
     ]
    }
   ],
   "source": [
    "address = '102 North End Ave, New York, NY'\n",
    "\n",
    "geolocator = Nominatim(user_agent=\"foursquare_agent\")\n",
    "location = geolocator.geocode(address)\n",
    "Nlatitude = location.latitude\n",
    "Nlongitude = location.longitude\n",
    "print(Nlatitude, Nlongitude)"
   ]
  },
  {
   "cell_type": "markdown",
   "metadata": {},
   "source": [
    "Let us compare those two hotels"
   ]
  },
  {
   "cell_type": "code",
   "execution_count": 8,
   "metadata": {},
   "outputs": [
    {
     "name": "stdout",
     "output_type": "stream",
     "text": [
      "[ 40.7149555 -74.0153365] [ 43.64993865 -79.38538037]\n"
     ]
    }
   ],
   "source": [
    "Conrad = np.array([Nlatitude, Nlongitude])\n",
    "Hilton = np.array([Tlatitude, Tlongitude])\n",
    "print(Conrad, Hilton)"
   ]
  },
  {
   "cell_type": "code",
   "execution_count": 9,
   "metadata": {},
   "outputs": [
    {
     "data": {
      "text/plain": [
       "array([False, False])"
      ]
     },
     "execution_count": 9,
     "metadata": {},
     "output_type": "execute_result"
    }
   ],
   "source": [
    "Conrad == Hilton"
   ]
  },
  {
   "cell_type": "markdown",
   "metadata": {},
   "source": [
    "As we can see, the data analysis shows us that the two hotels are completely different places\n"
   ]
  },
  {
   "cell_type": "markdown",
   "metadata": {},
   "source": [
    "Let's create a data frame to fool around"
   ]
  },
  {
   "cell_type": "code",
   "execution_count": 11,
   "metadata": {},
   "outputs": [
    {
     "data": {
      "text/html": [
       "<div>\n",
       "<style scoped>\n",
       "    .dataframe tbody tr th:only-of-type {\n",
       "        vertical-align: middle;\n",
       "    }\n",
       "\n",
       "    .dataframe tbody tr th {\n",
       "        vertical-align: top;\n",
       "    }\n",
       "\n",
       "    .dataframe thead th {\n",
       "        text-align: right;\n",
       "    }\n",
       "</style>\n",
       "<table border=\"1\" class=\"dataframe\">\n",
       "  <thead>\n",
       "    <tr style=\"text-align: right;\">\n",
       "      <th></th>\n",
       "      <th>Hotels</th>\n",
       "      <th>Lat</th>\n",
       "      <th>Lon</th>\n",
       "    </tr>\n",
       "  </thead>\n",
       "  <tbody>\n",
       "    <tr>\n",
       "      <th>0</th>\n",
       "      <td>Conrad</td>\n",
       "      <td>40.714956</td>\n",
       "      <td>-74.015337</td>\n",
       "    </tr>\n",
       "    <tr>\n",
       "      <th>1</th>\n",
       "      <td>Hilton</td>\n",
       "      <td>43.649939</td>\n",
       "      <td>-79.385380</td>\n",
       "    </tr>\n",
       "  </tbody>\n",
       "</table>\n",
       "</div>"
      ],
      "text/plain": [
       "   Hotels        Lat        Lon\n",
       "0  Conrad  40.714956 -74.015337\n",
       "1  Hilton  43.649939 -79.385380"
      ]
     },
     "execution_count": 11,
     "metadata": {},
     "output_type": "execute_result"
    }
   ],
   "source": [
    "Hotels_df = pd.DataFrame({'Hotels': ['Conrad', 'Hilton'], 'Lat': [ 40.7149555, 43.64993865], 'Lon': [ -74.0153365, -79.38538037]})\n",
    "Hotels_df"
   ]
  },
  {
   "cell_type": "markdown",
   "metadata": {},
   "source": [
    "let's make a function"
   ]
  },
  {
   "cell_type": "code",
   "execution_count": 12,
   "metadata": {},
   "outputs": [],
   "source": [
    "def BetterHotel(x, y):\n",
    "    if x[1] > y[1]:\n",
    "        return Hotels_df['Hotels'][Hotels_df['Lon'] == x[1]]+\" is damn better, because it's warmer\"\n",
    "    else:\n",
    "        return Hotels_df['Hotels'][Hotels_df['Lon'] == y[1]]+\" is damn better, because it's warmer\""
   ]
  },
  {
   "cell_type": "markdown",
   "metadata": {},
   "source": [
    "and use it!"
   ]
  },
  {
   "cell_type": "code",
   "execution_count": 13,
   "metadata": {},
   "outputs": [
    {
     "data": {
      "text/plain": [
       "0    Conrad is damn better, because it's warmer\n",
       "Name: Hotels, dtype: object"
      ]
     },
     "execution_count": 13,
     "metadata": {},
     "output_type": "execute_result"
    }
   ],
   "source": [
    "BetterHotel(Conrad, Hilton)"
   ]
  },
  {
   "cell_type": "markdown",
   "metadata": {},
   "source": [
    "Let us vizualise it, to make sure"
   ]
  },
  {
   "cell_type": "code",
   "execution_count": 15,
   "metadata": {},
   "outputs": [
    {
     "data": {
      "text/plain": [
       "<function matplotlib.pyplot.show(*args, **kw)>"
      ]
     },
     "execution_count": 15,
     "metadata": {},
     "output_type": "execute_result"
    },
    {
     "data": {
      "image/png": "[encoded data removed]",
      "text/plain": [
       "<Figure size 432x288 with 1 Axes>"
      ]
     },
     "metadata": {
      "needs_background": "light"
     },
     "output_type": "display_data"
    }
   ],
   "source": [
    "import matplotlib.pyplot as plt\n",
    "Hotels_df.plot(kind = 'scatter', x = 'Lat', y = 'Lon', s = 200, c = 'g')\n",
    "plt.show"
   ]
  },
  {
   "cell_type": "markdown",
   "metadata": {},
   "source": [
    "So if you don't want your ass frozen, you go to Conrad"
   ]
  },
  {
   "cell_type": "markdown",
   "metadata": {},
   "source": [
    "### Now, let's assume that it is lunch time, and i'm craving Chinese food, staying at Conrad."
   ]
  },
  {
   "cell_type": "code",
   "execution_count": 16,
   "metadata": {},
   "outputs": [
    {
     "name": "stdout",
     "output_type": "stream",
     "text": [
      "Chinese .... OK!\n"
     ]
    }
   ],
   "source": [
    "search_query = 'Chinese'\n",
    "radius = 500\n",
    "print(search_query + ' .... OK!')"
   ]
  },
  {
   "cell_type": "markdown",
   "metadata": {},
   "source": [
    "#### Define the corresponding URL for Conrad hotel"
   ]
  },
  {
   "cell_type": "code",
   "execution_count": 18,
   "metadata": {},
   "outputs": [
    {
     "data": {
      "text/plain": [
       "'https://api.foursquare.com/v2/venues/search?client_id=45MWALKON1JTXEMRF3WFCNUAO1ZKVUD2I5FFXH23QGPB11UZ&client_secret=GL04ECMB2KJ5SVKB2CZ0Q1U0YGDRX5SXGOB1QA0NOCZ5W3RL&ll=40.7149555,-74.0153365&v=20180604&query=Chinese&radius=500&limit=30'"
      ]
     },
     "execution_count": 18,
     "metadata": {},
     "output_type": "execute_result"
    }
   ],
   "source": [
    "url = 'https://api.foursquare.com/v2/venues/search?client_id={}&client_secret={}&ll={},{}&v={}&query={}&radius={}&limit={}'.format(CLIENT_ID, CLIENT_SECRET, Nlatitude, Nlongitude, VERSION, search_query, radius, LIMIT)\n",
    "url"
   ]
  },
  {
   "cell_type": "code",
   "execution_count": 22,
   "metadata": {},
   "outputs": [
    {
     "data": {
      "text/plain": [
       "{'meta': {'code': 200, 'requestId': '5d6ed8b5cc7d410037a65b0c'},\n",
       " 'response': {'venues': [{'id': '51c87762498e29ad0293dab1',\n",
       "    'name': 'Chinese Mirch (WTC Truck)',\n",
       "    'location': {'lat': 40.713732,\n",
       "     'lng': -74.016616,\n",
       "     'labeledLatLngs': [{'label': 'display',\n",
       "       'lat': 40.713732,\n",
       "       'lng': -74.016616}],\n",
       "     'distance': 173,\n",
       "     'cc': 'US',\n",
       "     'city': 'New York',\n",
       "     'state': 'NY',\n",
       "     'country': 'United States',\n",
       "     'formattedAddress': ['New York, NY', 'United States']},\n",
       "    'categories': [{'id': '4bf58dd8d48988d1cb941735',\n",
       "      'name': 'Food Truck',\n",
       "      'pluralName': 'Food Trucks',\n",
       "      'shortName': 'Food Truck',\n",
       "      'icon': {'prefix': 'https://ss3.4sqi.net/img/categories_v2/food/streetfood_',\n",
       "       'suffix': '.png'},\n",
       "      'primary': True}],\n",
       "    'referralId': 'v-1567545525',\n",
       "    'hasPerk': False}]}}"
      ]
     },
     "execution_count": 22,
     "metadata": {},
     "output_type": "execute_result"
    }
   ],
   "source": [
    "N_results = requests.get(url).json()\n",
    "N_results"
   ]
  },
  {
   "cell_type": "markdown",
   "metadata": {},
   "source": [
    "The result shows us that here is where a Chinese food fan will have to eat near Conrad hotel"
   ]
  },
  {
   "cell_type": "code",
   "execution_count": 28,
   "metadata": {},
   "outputs": [
    {
     "data": {
      "text/html": [
       "<div>\n",
       "<style scoped>\n",
       "    .dataframe tbody tr th:only-of-type {\n",
       "        vertical-align: middle;\n",
       "    }\n",
       "\n",
       "    .dataframe tbody tr th {\n",
       "        vertical-align: top;\n",
       "    }\n",
       "\n",
       "    .dataframe thead th {\n",
       "        text-align: right;\n",
       "    }\n",
       "</style>\n",
       "<table border=\"1\" class=\"dataframe\">\n",
       "  <thead>\n",
       "    <tr style=\"text-align: right;\">\n",
       "      <th></th>\n",
       "      <th>name</th>\n",
       "      <th>location</th>\n",
       "    </tr>\n",
       "  </thead>\n",
       "  <tbody>\n",
       "    <tr>\n",
       "      <th>0</th>\n",
       "      <td>Chinese Mirch (WTC Truck)</td>\n",
       "      <td>{'lat': 40.713732, 'lng': -74.016616, 'labeled...</td>\n",
       "    </tr>\n",
       "  </tbody>\n",
       "</table>\n",
       "</div>"
      ],
      "text/plain": [
       "                        name  \\\n",
       "0  Chinese Mirch (WTC Truck)   \n",
       "\n",
       "                                            location  \n",
       "0  {'lat': 40.713732, 'lng': -74.016616, 'labeled...  "
      ]
     },
     "execution_count": 28,
     "metadata": {},
     "output_type": "execute_result"
    }
   ],
   "source": [
    "WhereToEat = N_results['response']['venues']\n",
    "ChineseFood = pd.DataFrame(WhereToEat)\n",
    "ChineseFood[['name', 'location']]"
   ]
  },
  {
   "cell_type": "markdown",
   "metadata": {},
   "source": [
    "So a Chinese food fan will have to stick to this:\n",
    "![](http://4.bp.blogspot.com/-Z7nfZpekEoE/UKlHHJ84HXI/AAAAAAAAV-0/AZRuxZBCOxc/s1600/IMG_1046.JPG)"
   ]
  },
  {
   "cell_type": "markdown",
   "metadata": {},
   "source": [
    "### Now, let's assume that i'm craving Chinese food near Toronto Hilton."
   ]
  },
  {
   "cell_type": "code",
   "execution_count": 29,
   "metadata": {},
   "outputs": [
    {
     "data": {
      "text/plain": [
       "'https://api.foursquare.com/v2/venues/search?client_id=45MWALKON1JTXEMRF3WFCNUAO1ZKVUD2I5FFXH23QGPB11UZ&client_secret=GL04ECMB2KJ5SVKB2CZ0Q1U0YGDRX5SXGOB1QA0NOCZ5W3RL&ll=43.64993865,-79.3853803728614&v=20180604&query=Chinese&radius=500&limit=30'"
      ]
     },
     "execution_count": 29,
     "metadata": {},
     "output_type": "execute_result"
    }
   ],
   "source": [
    "Turl = 'https://api.foursquare.com/v2/venues/search?client_id={}&client_secret={}&ll={},{}&v={}&query={}&radius={}&limit={}'.format(CLIENT_ID, CLIENT_SECRET, Tlatitude, Tlongitude, VERSION, search_query, radius, LIMIT)\n",
    "Turl"
   ]
  },
  {
   "cell_type": "code",
   "execution_count": 30,
   "metadata": {},
   "outputs": [
    {
     "data": {
      "text/plain": [
       "{'meta': {'code': 200, 'requestId': '5d6eda6086bc490033a8c369'},\n",
       " 'response': {'venues': [{'id': '5202d246498e9649c88150b7',\n",
       "    'name': 'Toronto Chinese Academy',\n",
       "    'location': {'address': '133 Richmond Street West',\n",
       "     'crossStreet': 'York Street',\n",
       "     'lat': 43.65014006138457,\n",
       "     'lng': -79.38485690552969,\n",
       "     'labeledLatLngs': [{'label': 'display',\n",
       "       'lat': 43.65014006138457,\n",
       "       'lng': -79.38485690552969}],\n",
       "     'distance': 47,\n",
       "     'postalCode': 'M5H 2L3',\n",
       "     'cc': 'CA',\n",
       "     'neighborhood': 'Financial District',\n",
       "     'city': 'Toronto',\n",
       "     'state': 'ON',\n",
       "     'country': 'Canada',\n",
       "     'formattedAddress': ['133 Richmond Street West (York Street)',\n",
       "      'Toronto ON M5H 2L3',\n",
       "      'Canada']},\n",
       "    'categories': [{'id': '4bf58dd8d48988d1ae941735',\n",
       "      'name': 'University',\n",
       "      'pluralName': 'Universities',\n",
       "      'shortName': 'University',\n",
       "      'icon': {'prefix': 'https://ss3.4sqi.net/img/categories_v2/education/default_',\n",
       "       'suffix': '.png'},\n",
       "      'primary': True}],\n",
       "    'referralId': 'v-1567545952',\n",
       "    'hasPerk': False},\n",
       "   {'id': '4b2027b5f964a520f82d24e3',\n",
       "    'name': 'Hong Shing Chinese Restaurant',\n",
       "    'location': {'address': '195 Dundas St W',\n",
       "     'crossStreet': 'at University Ave',\n",
       "     'lat': 43.65492521335936,\n",
       "     'lng': -79.38708916106386,\n",
       "     'labeledLatLngs': [{'label': 'display',\n",
       "       'lat': 43.65492521335936,\n",
       "       'lng': -79.38708916106386}],\n",
       "     'distance': 571,\n",
       "     'postalCode': 'M5G 1C7',\n",
       "     'cc': 'CA',\n",
       "     'city': 'Toronto',\n",
       "     'state': 'ON',\n",
       "     'country': 'Canada',\n",
       "     'formattedAddress': ['195 Dundas St W (at University Ave)',\n",
       "      'Toronto ON M5G 1C7',\n",
       "      'Canada']},\n",
       "    'categories': [{'id': '4bf58dd8d48988d145941735',\n",
       "      'name': 'Chinese Restaurant',\n",
       "      'pluralName': 'Chinese Restaurants',\n",
       "      'shortName': 'Chinese',\n",
       "      'icon': {'prefix': 'https://ss3.4sqi.net/img/categories_v2/food/asian_',\n",
       "       'suffix': '.png'},\n",
       "      'primary': True}],\n",
       "    'venuePage': {'id': '60327598'},\n",
       "    'referralId': 'v-1567545952',\n",
       "    'hasPerk': False},\n",
       "   {'id': '4f04779a02d5cce0cfc06151',\n",
       "    'name': 'Chinese Visa Application Service Center',\n",
       "    'location': {'address': '393 University Ave, Suite 1501',\n",
       "     'crossStreet': 'in University Centre',\n",
       "     'lat': 43.65402839343005,\n",
       "     'lng': -79.38736458967021,\n",
       "     'labeledLatLngs': [{'label': 'display',\n",
       "       'lat': 43.65402839343005,\n",
       "       'lng': -79.38736458967021}],\n",
       "     'distance': 482,\n",
       "     'cc': 'CA',\n",
       "     'city': 'Toronto',\n",
       "     'state': 'ON',\n",
       "     'country': 'Canada',\n",
       "     'formattedAddress': ['393 University Ave, Suite 1501 (in University Centre)',\n",
       "      'Toronto ON',\n",
       "      'Canada']},\n",
       "    'categories': [{'id': '4bf58dd8d48988d126941735',\n",
       "      'name': 'Government Building',\n",
       "      'pluralName': 'Government Buildings',\n",
       "      'shortName': 'Government',\n",
       "      'icon': {'prefix': 'https://ss3.4sqi.net/img/categories_v2/building/government_',\n",
       "       'suffix': '.png'},\n",
       "      'primary': True}],\n",
       "    'referralId': 'v-1567545952',\n",
       "    'hasPerk': False},\n",
       "   {'id': '52a7ae41498eed3af4d0a3fa',\n",
       "    'name': 'Yueh Tung Chinese Restaurant',\n",
       "    'location': {'address': '126 Elizabeth St.',\n",
       "     'crossStreet': 'Dundas St.',\n",
       "     'lat': 43.655281263429195,\n",
       "     'lng': -79.3853365267765,\n",
       "     'labeledLatLngs': [{'label': 'display',\n",
       "       'lat': 43.655281263429195,\n",
       "       'lng': -79.3853365267765}],\n",
       "     'distance': 594,\n",
       "     'cc': 'CA',\n",
       "     'city': 'Toronto',\n",
       "     'state': 'ON',\n",
       "     'country': 'Canada',\n",
       "     'formattedAddress': ['126 Elizabeth St. (Dundas St.)',\n",
       "      'Toronto ON',\n",
       "      'Canada']},\n",
       "    'categories': [{'id': '4bf58dd8d48988d145941735',\n",
       "      'name': 'Chinese Restaurant',\n",
       "      'pluralName': 'Chinese Restaurants',\n",
       "      'shortName': 'Chinese',\n",
       "      'icon': {'prefix': 'https://ss3.4sqi.net/img/categories_v2/food/asian_',\n",
       "       'suffix': '.png'},\n",
       "      'primary': True}],\n",
       "    'referralId': 'v-1567545952',\n",
       "    'hasPerk': False},\n",
       "   {'id': '4c15280ea5eb76b0c4d9c2b7',\n",
       "    'name': 'Tasty Chinese Food',\n",
       "    'location': {'address': 'Village by the Grange',\n",
       "     'lat': 43.65375663396815,\n",
       "     'lng': -79.39075710760176,\n",
       "     'labeledLatLngs': [{'label': 'display',\n",
       "       'lat': 43.65375663396815,\n",
       "       'lng': -79.39075710760176}],\n",
       "     'distance': 606,\n",
       "     'cc': 'CA',\n",
       "     'city': 'Toronto',\n",
       "     'state': 'ON',\n",
       "     'country': 'Canada',\n",
       "     'formattedAddress': ['Village by the Grange', 'Toronto ON', 'Canada']},\n",
       "    'categories': [{'id': '4bf58dd8d48988d145941735',\n",
       "      'name': 'Chinese Restaurant',\n",
       "      'pluralName': 'Chinese Restaurants',\n",
       "      'shortName': 'Chinese',\n",
       "      'icon': {'prefix': 'https://ss3.4sqi.net/img/categories_v2/food/asian_',\n",
       "       'suffix': '.png'},\n",
       "      'primary': True}],\n",
       "    'referralId': 'v-1567545952',\n",
       "    'hasPerk': False},\n",
       "   {'id': '4b1be39df964a5209cfe23e3',\n",
       "    'name': 'Chic Chinoise Pan Asian Cuisine',\n",
       "    'location': {'address': '214 King St. W',\n",
       "     'crossStreet': 'Simcoe',\n",
       "     'lat': 43.647074087706535,\n",
       "     'lng': -79.38617571756487,\n",
       "     'labeledLatLngs': [{'label': 'display',\n",
       "       'lat': 43.647074087706535,\n",
       "       'lng': -79.38617571756487}],\n",
       "     'distance': 325,\n",
       "     'cc': 'CA',\n",
       "     'city': 'Toronto',\n",
       "     'state': 'ON',\n",
       "     'country': 'Canada',\n",
       "     'formattedAddress': ['214 King St. W (Simcoe)', 'Toronto ON', 'Canada']},\n",
       "    'categories': [{'id': '4bf58dd8d48988d142941735',\n",
       "      'name': 'Asian Restaurant',\n",
       "      'pluralName': 'Asian Restaurants',\n",
       "      'shortName': 'Asian',\n",
       "      'icon': {'prefix': 'https://ss3.4sqi.net/img/categories_v2/food/asian_',\n",
       "       'suffix': '.png'},\n",
       "      'primary': True}],\n",
       "    'referralId': 'v-1567545952',\n",
       "    'hasPerk': False}]}}"
      ]
     },
     "execution_count": 30,
     "metadata": {},
     "output_type": "execute_result"
    }
   ],
   "source": [
    "T_results = requests.get(Turl).json()\n",
    "T_results"
   ]
  },
  {
   "cell_type": "code",
   "execution_count": 32,
   "metadata": {},
   "outputs": [
    {
     "data": {
      "text/html": [
       "<div>\n",
       "<style scoped>\n",
       "    .dataframe tbody tr th:only-of-type {\n",
       "        vertical-align: middle;\n",
       "    }\n",
       "\n",
       "    .dataframe tbody tr th {\n",
       "        vertical-align: top;\n",
       "    }\n",
       "\n",
       "    .dataframe thead th {\n",
       "        text-align: right;\n",
       "    }\n",
       "</style>\n",
       "<table border=\"1\" class=\"dataframe\">\n",
       "  <thead>\n",
       "    <tr style=\"text-align: right;\">\n",
       "      <th></th>\n",
       "      <th>name</th>\n",
       "      <th>location</th>\n",
       "    </tr>\n",
       "  </thead>\n",
       "  <tbody>\n",
       "    <tr>\n",
       "      <th>0</th>\n",
       "      <td>Toronto Chinese Academy</td>\n",
       "      <td>{'address': '133 Richmond Street West', 'cross...</td>\n",
       "    </tr>\n",
       "    <tr>\n",
       "      <th>1</th>\n",
       "      <td>Hong Shing Chinese Restaurant</td>\n",
       "      <td>{'address': '195 Dundas St W', 'crossStreet': ...</td>\n",
       "    </tr>\n",
       "    <tr>\n",
       "      <th>2</th>\n",
       "      <td>Chinese Visa Application Service Center</td>\n",
       "      <td>{'address': '393 University Ave, Suite 1501', ...</td>\n",
       "    </tr>\n",
       "    <tr>\n",
       "      <th>3</th>\n",
       "      <td>Yueh Tung Chinese Restaurant</td>\n",
       "      <td>{'address': '126 Elizabeth St.', 'crossStreet'...</td>\n",
       "    </tr>\n",
       "    <tr>\n",
       "      <th>4</th>\n",
       "      <td>Tasty Chinese Food</td>\n",
       "      <td>{'address': 'Village by the Grange', 'lat': 43...</td>\n",
       "    </tr>\n",
       "    <tr>\n",
       "      <th>5</th>\n",
       "      <td>Chic Chinoise Pan Asian Cuisine</td>\n",
       "      <td>{'address': '214 King St. W', 'crossStreet': '...</td>\n",
       "    </tr>\n",
       "  </tbody>\n",
       "</table>\n",
       "</div>"
      ],
      "text/plain": [
       "                                      name  \\\n",
       "0                  Toronto Chinese Academy   \n",
       "1            Hong Shing Chinese Restaurant   \n",
       "2  Chinese Visa Application Service Center   \n",
       "3             Yueh Tung Chinese Restaurant   \n",
       "4                       Tasty Chinese Food   \n",
       "5          Chic Chinoise Pan Asian Cuisine   \n",
       "\n",
       "                                            location  \n",
       "0  {'address': '133 Richmond Street West', 'cross...  \n",
       "1  {'address': '195 Dundas St W', 'crossStreet': ...  \n",
       "2  {'address': '393 University Ave, Suite 1501', ...  \n",
       "3  {'address': '126 Elizabeth St.', 'crossStreet'...  \n",
       "4  {'address': 'Village by the Grange', 'lat': 43...  \n",
       "5  {'address': '214 King St. W', 'crossStreet': '...  "
      ]
     },
     "execution_count": 32,
     "metadata": {},
     "output_type": "execute_result"
    }
   ],
   "source": [
    "WhereToEatInToro = T_results['response']['venues']\n",
    "ChineseFoodInToro = pd.DataFrame(WhereToEatInToro)\n",
    "ChineseFoodInToro[['name', 'location']]"
   ]
  },
  {
   "cell_type": "markdown",
   "metadata": {},
   "source": [
    "#### Holy ...! Four places to taste Chinese food! That was unexpected"
   ]
  },
  {
   "cell_type": "markdown",
   "metadata": {},
   "source": [
    "And that may be telling something about what city of the two is more multicultural, though that's not the subject of this research. But if you wanna eat something Chinese throughout your stay in the hotel - you should definitely choose Toronto Hilton. "
   ]
  },
  {
   "cell_type": "code",
   "execution_count": null,
   "metadata": {},
   "outputs": [],
   "source": []
  }
 ],
 "metadata": {
  "kernelspec": {
   "display_name": "Python 3.6",
   "language": "python",
   "name": "python3"
  },
  "language_info": {
   "codemirror_mode": {
    "name": "ipython",
    "version": 3
   },
   "file_extension": ".py",
   "mimetype": "text/x-python",
   "name": "python",
   "nbconvert_exporter": "python",
   "pygments_lexer": "ipython3",
   "version": "3.6.8"
  }
 },
 "nbformat": 4,
 "nbformat_minor": 1
}
