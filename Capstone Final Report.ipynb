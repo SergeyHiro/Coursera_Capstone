{
 "cells": [
  {
   "cell_type": "markdown",
   "metadata": {
    "collapsed": true
   },
   "source": [
    "# Comparing Conrad Hotel in New York and Toronto Hilton in Toronto"
   ]
  },
  {
   "cell_type": "markdown",
   "metadata": {},
   "source": [
    "## Introduction/Business problem"
   ]
  },
  {
   "cell_type": "markdown",
   "metadata": {},
   "source": [
    "In this work i will try to compare hotels in two multicultural cities, American New York and Canadian Toronto, that can be similar in many aspects and different in many more. I am going to be as creative as I want and come up with an idea to leverage the Foursquare location data to explore or compare neighborhoods or cities of my choice or to come up with a problem that I can use the Foursquare location data to solve. "
   ]
  },
  {
   "cell_type": "markdown",
   "metadata": {},
   "source": [
    "## Data description"
   ]
  },
  {
   "cell_type": "markdown",
   "metadata": {},
   "source": [
    "I used Foursquare API requests to get coordinates of the two hotels as well as to explore their surroundings to solve the problem in the end. The Foursquare data was interpreted by Python Pandas, Numpy and Matplotlib libraries for data systematisation and visualisation. I also used open sources in the internet to obtain additional graphical content to use in my research. "
   ]
  },
  {
   "cell_type": "markdown",
   "metadata": {},
   "source": [
    "## Methodology"
   ]
  },
  {
   "cell_type": "markdown",
   "metadata": {},
   "source": [
    "I requested the coordinates of New York Condrad Hotel and those of Toronto Hilton. Then i compared the locations of the two hotels in order to define which is geographically better positioned. The second part of my research was to find nearby Chinese restauraunts for both hotels. The research didn't requre using machine learning algorithms, such as logistic regression or k-means clustering. I passed the exam on all those algorithms in the previous machine learning course, so i decided to move on with my research without focusing too much on machine learning algorythms, such as k-nearest neighbors or support vector machine (SVM) or any other. Basic NumPy and Pandas functionality coupled with Foursquare API data was enough to cover all the needs of the research. "
   ]
  },
  {
   "cell_type": "markdown",
   "metadata": {},
   "source": [
    "## Results"
   ]
  },
  {
   "cell_type": "markdown",
   "metadata": {},
   "source": [
    "For Conrad the result was a single food truck, while Toronto Hilton offered four restauraunts nearby! "
   ]
  },
  {
   "cell_type": "markdown",
   "metadata": {},
   "source": [
    "## Discussion"
   ]
  },
  {
   "cell_type": "markdown",
   "metadata": {},
   "source": [
    "The discussion on this subject can be long and pretty hot due to sensitive character of the obtained data. The results can be used as an example in a broader research of the two cities food map or their cultural or demographic/ethnic characteristics. From this standpoint the research was important as it can lay ground for a full scale research cultural or marketing research, as well as give some tips to tourists aiming to find a place that will suit their needs the best way possible."
   ]
  },
  {
   "cell_type": "markdown",
   "metadata": {},
   "source": [
    "## Conclusion "
   ]
  },
  {
   "cell_type": "markdown",
   "metadata": {},
   "source": [
    "If you are a Chinese food fan and you're not afraid of cold – you probably want to stay in Toronto Hilton. The hotel and its surroundins offer much better environment for people with Chinese-oriented food preferences. Conrad hotel on the other hand doesn't offer a wide range of Chinese restauraunts nearby, but it still can be considered as a warmer place because of its geographic position.  \n"
   ]
  },
  {
   "cell_type": "code",
   "execution_count": null,
   "metadata": {},
   "outputs": [],
   "source": []
  }
 ],
 "metadata": {
  "kernelspec": {
   "display_name": "Python 3.6",
   "language": "python",
   "name": "python3"
  },
  "language_info": {
   "codemirror_mode": {
    "name": "ipython",
    "version": 3
   },
   "file_extension": ".py",
   "mimetype": "text/x-python",
   "name": "python",
   "nbconvert_exporter": "python",
   "pygments_lexer": "ipython3",
   "version": "3.6.8"
  }
 },
 "nbformat": 4,
 "nbformat_minor": 1
}
